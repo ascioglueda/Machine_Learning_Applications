{
 "cells": [
  {
   "cell_type": "code",
   "execution_count": 8,
   "id": "4c630b74",
   "metadata": {},
   "outputs": [],
   "source": [
    "from sklearn.datasets import load_diabetes\n",
    "from sklearn.model_selection import train_test_split,GridSearchCV\n",
    "from sklearn.linear_model import Ridge,Lasso\n",
    "from sklearn.metrics import mean_squared_error"
   ]
  },
  {
   "cell_type": "code",
   "execution_count": 3,
   "id": "ca30307a",
   "metadata": {},
   "outputs": [],
   "source": [
    "diabetes = load_diabetes()\n",
    "X = diabetes.data\n",
    "y = diabetes.target"
   ]
  },
  {
   "cell_type": "code",
   "execution_count": 4,
   "id": "e0c53f10",
   "metadata": {},
   "outputs": [],
   "source": [
    "X_train, X_test, y_train, y_test = train_test_split(X,y,test_size=0.2, random_state=42)"
   ]
  },
  {
   "cell_type": "markdown",
   "id": "8aa3cfb8",
   "metadata": {},
   "source": [
    "Ridge"
   ]
  },
  {
   "cell_type": "code",
   "execution_count": 7,
   "id": "da1e1cfd",
   "metadata": {},
   "outputs": [
    {
     "name": "stdout",
     "output_type": "stream",
     "text": [
      "Ridge en iyi parameters: {'alpha': 0.1}\n",
      "Ridge en iyi score: 0.45647798015266455\n"
     ]
    }
   ],
   "source": [
    "ridge = Ridge()\n",
    "ridge_param_grid = {\"alpha\":[0.1,1,10,100]}\n",
    "ridge_grid_search = GridSearchCV(ridge,ridge_param_grid,cv=5)\n",
    "ridge_grid_search.fit(X_train,y_train)\n",
    "print(\"Ridge en iyi parameters:\",ridge_grid_search.best_params_)\n",
    "print(\"Ridge en iyi score:\",ridge_grid_search.best_score_)"
   ]
  },
  {
   "cell_type": "code",
   "execution_count": 9,
   "id": "6c463194",
   "metadata": {},
   "outputs": [
    {
     "name": "stdout",
     "output_type": "stream",
     "text": [
      "ridge_mse: 2856.486887670654\n"
     ]
    }
   ],
   "source": [
    "best_ridge_model = ridge_grid_search.best_estimator_\n",
    "y_pred_ridge = best_ridge_model.predict(X_test)\n",
    "ridge_mse = mean_squared_error(y_test,y_pred_ridge)\n",
    "print(\"ridge_mse:\",ridge_mse)"
   ]
  },
  {
   "cell_type": "markdown",
   "id": "1123d9fa",
   "metadata": {},
   "source": [
    "Lasso"
   ]
  },
  {
   "cell_type": "code",
   "execution_count": 10,
   "id": "1491e7bc",
   "metadata": {},
   "outputs": [
    {
     "name": "stdout",
     "output_type": "stream",
     "text": [
      "Lasso en iyi parameters: {'alpha': 0.1}\n",
      "Lasso en iyi score: 0.4555104983088939\n"
     ]
    }
   ],
   "source": [
    "lasso = Lasso()\n",
    "lasso_param_grid = {\"alpha\":[0.1,1,10,100]}\n",
    "lasso_grid_search = GridSearchCV(lasso,lasso_param_grid,cv=5)\n",
    "lasso_grid_search.fit(X_train,y_train)\n",
    "print(\"Lasso en iyi parameters:\",lasso_grid_search.best_params_)\n",
    "print(\"Lasso en iyi score:\",lasso_grid_search.best_score_)"
   ]
  },
  {
   "cell_type": "code",
   "execution_count": 11,
   "id": "6702964d",
   "metadata": {},
   "outputs": [
    {
     "name": "stdout",
     "output_type": "stream",
     "text": [
      "lasso_mse: 2856.486887670654\n"
     ]
    }
   ],
   "source": [
    "best_lasso_model = lasso_grid_search.best_estimator_\n",
    "y_pred_lasso = best_lasso_model.predict(X_test)\n",
    "lasso_mse = mean_squared_error(y_test,y_pred_ridge)\n",
    "print(\"lasso_mse:\",lasso_mse)"
   ]
  }
 ],
 "metadata": {
  "kernelspec": {
   "display_name": "Python 3",
   "language": "python",
   "name": "python3"
  },
  "language_info": {
   "codemirror_mode": {
    "name": "ipython",
    "version": 3
   },
   "file_extension": ".py",
   "mimetype": "text/x-python",
   "name": "python",
   "nbconvert_exporter": "python",
   "pygments_lexer": "ipython3",
   "version": "3.12.2"
  }
 },
 "nbformat": 4,
 "nbformat_minor": 5
}
