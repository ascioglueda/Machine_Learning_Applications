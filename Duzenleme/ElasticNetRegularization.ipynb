{
 "cells": [
  {
   "cell_type": "code",
   "execution_count": 20,
   "id": "b6b802e5",
   "metadata": {},
   "outputs": [],
   "source": [
    "from sklearn.datasets import load_diabetes\n",
    "from sklearn.model_selection import train_test_split,GridSearchCV\n",
    "from sklearn.linear_model import ElasticNet\n",
    "from sklearn.metrics import mean_squared_error"
   ]
  },
  {
   "cell_type": "code",
   "execution_count": 15,
   "id": "26c93c19",
   "metadata": {},
   "outputs": [],
   "source": [
    "diabetes = load_diabetes()\n",
    "X = diabetes.data\n",
    "y = diabetes.target"
   ]
  },
  {
   "cell_type": "code",
   "execution_count": 16,
   "id": "930fe524",
   "metadata": {},
   "outputs": [],
   "source": [
    "X_train, X_test, y_train, y_test = train_test_split(X,y,test_size=0.2, random_state=42)"
   ]
  },
  {
   "cell_type": "code",
   "execution_count": 17,
   "id": "208c7cb9",
   "metadata": {},
   "outputs": [],
   "source": [
    "elastic_net = ElasticNet()\n",
    "elastic_net_param_grid = {\"alpha\":[.1,1,10,100],\"l1_ratio\":[0.1,0.3,0.5,0.7,0.9]}#l1 or l2 penalty ratio"
   ]
  },
  {
   "cell_type": "markdown",
   "id": "9c56dba8",
   "metadata": {},
   "source": [
    "sıfıra yakınsa l2 ,bire yakınsa l1"
   ]
  },
  {
   "cell_type": "code",
   "execution_count": 18,
   "id": "e79f359e",
   "metadata": {},
   "outputs": [
    {
     "name": "stdout",
     "output_type": "stream",
     "text": [
      "En iyi parameter: {'alpha': 0.1, 'l1_ratio': 0.9}\n",
      "En iyi score: 0.2525948988969631\n"
     ]
    }
   ],
   "source": [
    "elastic_net_grid_search = GridSearchCV(elastic_net,elastic_net_param_grid,cv=5)\n",
    "elastic_net_grid_search.fit(X_train,y_train)\n",
    "print(\"En iyi parameter:\",elastic_net_grid_search.best_params_)\n",
    "print(\"En iyi score:\",elastic_net_grid_search.best_score_)"
   ]
  },
  {
   "cell_type": "code",
   "execution_count": 21,
   "id": "0d33ac75",
   "metadata": {},
   "outputs": [
    {
     "name": "stdout",
     "output_type": "stream",
     "text": [
      "elastic_net_mse: 3792.129166396345\n"
     ]
    }
   ],
   "source": [
    "best_elastic_net_model = elastic_net_grid_search.best_estimator_\n",
    "y_pred_elastic_net = best_elastic_net_model.predict(X_test)\n",
    "elastic_net_mse = mean_squared_error(y_test,y_pred_elastic_net)\n",
    "print(\"elastic_net_mse:\",elastic_net_mse)"
   ]
  }
 ],
 "metadata": {
  "kernelspec": {
   "display_name": "Python 3",
   "language": "python",
   "name": "python3"
  },
  "language_info": {
   "codemirror_mode": {
    "name": "ipython",
    "version": 3
   },
   "file_extension": ".py",
   "mimetype": "text/x-python",
   "name": "python",
   "nbconvert_exporter": "python",
   "pygments_lexer": "ipython3",
   "version": "3.12.2"
  }
 },
 "nbformat": 4,
 "nbformat_minor": 5
}
