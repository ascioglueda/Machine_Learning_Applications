{
 "cells": [
  {
   "cell_type": "code",
   "execution_count": 14,
   "id": "0272ff59",
   "metadata": {},
   "outputs": [],
   "source": [
    "import gym\n",
    "import random\n",
    "import numpy as np"
   ]
  },
  {
   "cell_type": "code",
   "execution_count": 15,
   "id": "c2bb805b",
   "metadata": {},
   "outputs": [
    {
     "name": "stdout",
     "output_type": "stream",
     "text": [
      "Q-table\n",
      "[[0. 0. 0. 0.]\n",
      " [0. 0. 0. 0.]\n",
      " [0. 0. 0. 0.]\n",
      " [0. 0. 0. 0.]\n",
      " [0. 0. 0. 0.]\n",
      " [0. 0. 0. 0.]\n",
      " [0. 0. 0. 0.]\n",
      " [0. 0. 0. 0.]\n",
      " [0. 0. 0. 0.]\n",
      " [0. 0. 0. 0.]\n",
      " [0. 0. 0. 0.]\n",
      " [0. 0. 0. 0.]\n",
      " [0. 0. 0. 0.]\n",
      " [0. 0. 0. 0.]\n",
      " [0. 0. 0. 0.]\n",
      " [0. 0. 0. 0.]]\n"
     ]
    }
   ],
   "source": [
    "environment = gym.make('FrozenLake-v1',is_slippery =False,render_mode=\"ansi\")\n",
    "environment.reset()\n",
    "\n",
    "nb_states = environment.observation_space.n #satırlar 16 tane\n",
    "nb_actions = environment.action_space.n #sutunlar 4 tane\n",
    "\n",
    "qtable = np.zeros((nb_states,nb_actions))\n",
    "print(\"Q-table\")\n",
    "print(qtable)\n"
   ]
  },
  {
   "cell_type": "markdown",
   "id": "b6ec9b65",
   "metadata": {},
   "source": [
    "render_mode----görselleştirme için gerekli\n",
    "is_slippery----ajanın kaygan bir yüzeyde hareket ettiğini varsaymak"
   ]
  },
  {
   "cell_type": "markdown",
   "id": "a4ed0577",
   "metadata": {},
   "source": [
    "### sol:0,asagi:1,sag:2,yukari:3 ###"
   ]
  },
  {
   "cell_type": "markdown",
   "id": "39272be5",
   "metadata": {},
   "source": [
    "###"
   ]
  },
  {
   "cell_type": "code",
   "execution_count": 16,
   "id": "e505efb7",
   "metadata": {},
   "outputs": [
    {
     "name": "stderr",
     "output_type": "stream",
     "text": [
      "c:\\Users\\DeLL\\AppData\\Local\\Programs\\Python\\Python38\\lib\\site-packages\\gym\\utils\\passive_env_checker.py:233: DeprecationWarning: `np.bool8` is a deprecated alias for `np.bool_`.  (Deprecated NumPy 1.24)\n",
      "  if not isinstance(terminated, (bool, np.bool8)):\n"
     ]
    }
   ],
   "source": [
    "action = environment.action_space.sample()\n",
    "\n",
    "new_state,reward,done,info, _= environment.step(action)"
   ]
  }
 ],
 "metadata": {
  "kernelspec": {
   "display_name": "Python 3",
   "language": "python",
   "name": "python3"
  },
  "language_info": {
   "codemirror_mode": {
    "name": "ipython",
    "version": 3
   },
   "file_extension": ".py",
   "mimetype": "text/x-python",
   "name": "python",
   "nbconvert_exporter": "python",
   "pygments_lexer": "ipython3",
   "version": "3.8.9"
  }
 },
 "nbformat": 4,
 "nbformat_minor": 5
}
