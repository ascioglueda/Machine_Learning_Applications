{
 "cells": [
  {
   "cell_type": "code",
   "execution_count": 32,
   "id": "0272ff59",
   "metadata": {},
   "outputs": [],
   "source": [
    "import gym\n",
    "import numpy as np\n",
    "from tqdm import tqdm"
   ]
  },
  {
   "cell_type": "code",
   "execution_count": 33,
   "id": "c2bb805b",
   "metadata": {},
   "outputs": [
    {
     "name": "stdout",
     "output_type": "stream",
     "text": [
      "Q-table\n",
      "[[0. 0. 0. 0.]\n",
      " [0. 0. 0. 0.]\n",
      " [0. 0. 0. 0.]\n",
      " [0. 0. 0. 0.]\n",
      " [0. 0. 0. 0.]\n",
      " [0. 0. 0. 0.]\n",
      " [0. 0. 0. 0.]\n",
      " [0. 0. 0. 0.]\n",
      " [0. 0. 0. 0.]\n",
      " [0. 0. 0. 0.]\n",
      " [0. 0. 0. 0.]\n",
      " [0. 0. 0. 0.]\n",
      " [0. 0. 0. 0.]\n",
      " [0. 0. 0. 0.]\n",
      " [0. 0. 0. 0.]\n",
      " [0. 0. 0. 0.]]\n"
     ]
    }
   ],
   "source": [
    "environment = gym.make('FrozenLake-v1',is_slippery =False,render_mode=\"ansi\")\n",
    "environment.reset()\n",
    "\n",
    "nb_states = environment.observation_space.n #satırlar 16 tane\n",
    "nb_actions = environment.action_space.n #sutunlar 4 tane\n",
    "\n",
    "qtable = np.zeros((nb_states,nb_actions))\n",
    "print(\"Q-table\")\n",
    "print(qtable) #ajanin beyni\n"
   ]
  },
  {
   "cell_type": "markdown",
   "id": "b6ec9b65",
   "metadata": {},
   "source": [
    "render_mode----görselleştirme için gerekli\n",
    "is_slippery----ajanın kaygan bir yüzeyde hareket ettiğini varsaymak"
   ]
  },
  {
   "cell_type": "markdown",
   "id": "a4ed0577",
   "metadata": {},
   "source": [
    "### sol:0,asagi:1,sag:2,yukari:3 ###"
   ]
  },
  {
   "cell_type": "markdown",
   "id": "39272be5",
   "metadata": {},
   "source": [
    "###"
   ]
  },
  {
   "cell_type": "code",
   "execution_count": 34,
   "id": "e505efb7",
   "metadata": {},
   "outputs": [],
   "source": [
    "action = environment.action_space.sample()\n",
    "\n",
    "new_state,reward,done,info, _= environment.step(action)"
   ]
  },
  {
   "cell_type": "markdown",
   "id": "474f1a90",
   "metadata": {},
   "source": [
    "bolum sayisini belirleme\n"
   ]
  },
  {
   "cell_type": "code",
   "execution_count": 35,
   "id": "87a5f1dd",
   "metadata": {},
   "outputs": [],
   "source": [
    "episodes = 1000 #1000 bolum\n",
    "alpha = 0.5 #learning rate\n",
    "gama = 0.9 #discount rate\n",
    "outcomes = []"
   ]
  },
  {
   "cell_type": "markdown",
   "id": "43db6ff2",
   "metadata": {},
   "source": [
    "training"
   ]
  },
  {
   "cell_type": "code",
   "execution_count": 36,
   "id": "1ac0d06c",
   "metadata": {},
   "outputs": [],
   "source": [
    "for _ in range(episodes):\n",
    "    state,_ =environment.reset()\n",
    "    done = False #ajanin basari durumu\n",
    "    outcomes.append(\"Failure\")\n",
    "    while not done:#ajan basarili olana kadar state icerisinde hareket et (action sec ve uygula)\n",
    "        #action\n",
    "        if np.max(qtable[state])>0:\n",
    "            action =np.argmax(qtable[state])\n",
    "        else:\n",
    "            action = environment.action_space.sample()\n",
    "\n",
    "        new_state,reward,done,info, _= environment.step(action)\n",
    "\n",
    "        #update q table\n",
    "        qtable[state,action] = qtable[state,action] + alpha*(reward + gama * np.max(qtable[new_state])- qtable[state,action])\n",
    "\n",
    "        state =new_state\n",
    "        if reward:\n",
    "            outcomes[-1] = \"Success\"\n"
   ]
  },
  {
   "cell_type": "code",
   "execution_count": 37,
   "id": "834abf98",
   "metadata": {},
   "outputs": [
    {
     "name": "stdout",
     "output_type": "stream",
     "text": [
      "Qtable After Training:\n",
      "[[0.      0.59049 0.      0.     ]\n",
      " [0.      0.      0.      0.     ]\n",
      " [0.      0.      0.      0.     ]\n",
      " [0.      0.      0.      0.     ]\n",
      " [0.      0.6561  0.      0.     ]\n",
      " [0.      0.      0.      0.     ]\n",
      " [0.      0.      0.      0.     ]\n",
      " [0.      0.      0.      0.     ]\n",
      " [0.      0.      0.729   0.     ]\n",
      " [0.      0.81    0.      0.     ]\n",
      " [0.      0.      0.      0.     ]\n",
      " [0.      0.      0.      0.     ]\n",
      " [0.      0.      0.      0.     ]\n",
      " [0.      0.      0.9     0.     ]\n",
      " [0.      0.      1.      0.     ]\n",
      " [0.      0.      0.      0.     ]]\n"
     ]
    },
    {
     "data": {
      "text/plain": [
       "<BarContainer object of 1000 artists>"
      ]
     },
     "execution_count": 37,
     "metadata": {},
     "output_type": "execute_result"
    },
    {
     "data": {
      "image/png": "[encoded data removed]",
      "text/plain": [
       "<Figure size 640x480 with 1 Axes>"
      ]
     },
     "metadata": {},
     "output_type": "display_data"
    }
   ],
   "source": [
    "import matplotlib.pyplot as plt\n",
    "print(\"Qtable After Training:\")\n",
    "print(qtable)\n",
    "\n",
    "plt.bar(range(episodes),outcomes)"
   ]
  },
  {
   "cell_type": "markdown",
   "id": "4a7ca744",
   "metadata": {},
   "source": [
    "test"
   ]
  },
  {
   "cell_type": "code",
   "execution_count": 39,
   "id": "509cee93",
   "metadata": {},
   "outputs": [
    {
     "name": "stdout",
     "output_type": "stream",
     "text": [
      "Success rate: 100.0\n",
      "[[0.      0.59049 0.      0.     ]\n",
      " [0.      0.      0.      0.     ]\n",
      " [0.      0.      0.      0.     ]\n",
      " [0.      0.      0.      0.     ]\n",
      " [0.      0.6561  0.      0.     ]\n",
      " [0.      0.      0.      0.     ]\n",
      " [0.      0.      0.      0.     ]\n",
      " [0.      0.      0.      0.     ]\n",
      " [0.      0.      0.729   0.     ]\n",
      " [0.      0.81    0.      0.     ]\n",
      " [0.      0.      0.      0.     ]\n",
      " [0.      0.      0.      0.     ]\n",
      " [0.      0.      0.      0.     ]\n",
      " [0.      0.      0.9     0.     ]\n",
      " [0.      0.      1.      0.     ]\n",
      " [0.      0.      0.      0.     ]]\n"
     ]
    }
   ],
   "source": [
    "episodes = 100 #100 bolum\n",
    "nb_success = 0\n",
    "\n",
    "for _ in range(episodes):\n",
    "    state,_ =environment.reset()\n",
    "    done = False #ajanin basari durumu\n",
    "    while not done:#ajan basarili olana kadar state icerisinde hareket et (action sec ve uygula)\n",
    "        #action\n",
    "        if np.max(qtable[state])>0:\n",
    "            action =np.argmax(qtable[state])\n",
    "        else:\n",
    "            action = environment.action_space.sample()\n",
    "\n",
    "        new_state,reward,done,info, _= environment.step(action)\n",
    "\n",
    "\n",
    "        state =new_state\n",
    "        nb_success+= reward\n",
    "\n",
    "import matplotlib.pyplot as plt\n",
    "print(\"Success rate:\",100*nb_success/episodes)\n",
    "print(qtable)\n"
   ]
  }
 ],
 "metadata": {
  "kernelspec": {
   "display_name": "Python 3",
   "language": "python",
   "name": "python3"
  },
  "language_info": {
   "codemirror_mode": {
    "name": "ipython",
    "version": 3
   },
   "file_extension": ".py",
   "mimetype": "text/x-python",
   "name": "python",
   "nbconvert_exporter": "python",
   "pygments_lexer": "ipython3",
   "version": "3.8.9"
  }
 },
 "nbformat": 4,
 "nbformat_minor": 5
}
