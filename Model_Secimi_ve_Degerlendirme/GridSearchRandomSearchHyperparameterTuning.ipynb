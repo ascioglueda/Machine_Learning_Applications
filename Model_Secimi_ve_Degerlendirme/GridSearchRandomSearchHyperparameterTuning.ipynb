{
 "cells": [
  {
   "cell_type": "code",
   "execution_count": 52,
   "id": "67470270",
   "metadata": {},
   "outputs": [],
   "source": [
    "from sklearn.datasets import load_iris\n",
    "from sklearn.model_selection import train_test_split, GridSearchCV,RandomizedSearchCV\n",
    "from sklearn.neighbors import KNeighborsClassifier\n",
    "from sklearn.tree import DecisionTreeClassifier\n",
    "from sklearn.svm import SVC\n",
    "import numpy as np"
   ]
  },
  {
   "cell_type": "code",
   "execution_count": 2,
   "id": "5a976874",
   "metadata": {},
   "outputs": [],
   "source": [
    "iris =load_iris()\n",
    "X = iris.data\n",
    "y = iris.target"
   ]
  },
  {
   "cell_type": "markdown",
   "id": "75f5acd7",
   "metadata": {},
   "source": [
    "KNN"
   ]
  },
  {
   "cell_type": "code",
   "execution_count": 10,
   "id": "53f9af4d",
   "metadata": {},
   "outputs": [],
   "source": [
    "X_train, X_test, y_train, y_test =train_test_split(X,y,test_size=0.2, random_state=42)\n",
    "\n",
    "knn =KNeighborsClassifier()\n",
    "knn_param_grid={\"n_neighbors\":np.arange(2,31)}"
   ]
  },
  {
   "cell_type": "code",
   "execution_count": 12,
   "id": "801a08c3",
   "metadata": {},
   "outputs": [
    {
     "name": "stdout",
     "output_type": "stream",
     "text": [
      "KNN Grid Search Best Parameters {'n_neighbors': 3}\n",
      "KNN Grid Search Best Parameters 0.9583333333333334\n"
     ]
    }
   ],
   "source": [
    "knn_grid_search = GridSearchCV(knn,knn_param_grid)\n",
    "knn_grid_search.fit(X_train,y_train)\n",
    "print(\"KNN Grid Search Best Parameters\",knn_grid_search.best_params_)\n",
    "print(\"KNN Grid Search Best Parameters\",knn_grid_search.best_score_)"
   ]
  },
  {
   "cell_type": "code",
   "execution_count": 42,
   "id": "3d9938d4",
   "metadata": {},
   "outputs": [
    {
     "name": "stdout",
     "output_type": "stream",
     "text": [
      "KNN Random Search Best Parameters {'n_neighbors': 3}\n",
      "KNN Random Search Best Parameters 0.9583333333333334\n"
     ]
    }
   ],
   "source": [
    "knn_random_search = RandomizedSearchCV(knn,knn_param_grid, n_iter=10)\n",
    "knn_random_search.fit(X_train,y_train)\n",
    "print(\"KNN Random Search Best Parameters\",knn_random_search.best_params_)\n",
    "print(\"KNN Random Search Best Parameters\",knn_random_search.best_score_)"
   ]
  },
  {
   "cell_type": "markdown",
   "id": "6e6aa4a8",
   "metadata": {},
   "source": [
    "Decision Tree"
   ]
  },
  {
   "cell_type": "code",
   "execution_count": 48,
   "id": "39b9f6a0",
   "metadata": {},
   "outputs": [],
   "source": [
    "tree = DecisionTreeClassifier()\n",
    "tree_param_grid ={\"max_depth\":[3, 5, 7], \"max_leaf_nodes\":[None,5,10,20,30,50]}"
   ]
  },
  {
   "cell_type": "code",
   "execution_count": 49,
   "id": "e0b9932f",
   "metadata": {},
   "outputs": [
    {
     "name": "stdout",
     "output_type": "stream",
     "text": [
      "Decision Tree Grid Search Best Parameters {'max_depth': 7, 'max_leaf_nodes': 50}\n",
      "Decision Tree Grid Search Best Parameters 0.95\n"
     ]
    }
   ],
   "source": [
    "tree_grid_search = GridSearchCV(tree,tree_param_grid)\n",
    "tree_grid_search.fit(X_train,y_train)\n",
    "print(\"Decision Tree Grid Search Best Parameters\",tree_grid_search.best_params_)\n",
    "print(\"Decision Tree Grid Search Best Parameters\",tree_grid_search.best_score_)"
   ]
  },
  {
   "cell_type": "code",
   "execution_count": 50,
   "id": "e35c027f",
   "metadata": {},
   "outputs": [
    {
     "name": "stdout",
     "output_type": "stream",
     "text": [
      "Decision Tree Random Search Best Parameters {'max_leaf_nodes': 20, 'max_depth': 7}\n",
      "Decision Tree Random Search Best Parameters 0.95\n"
     ]
    }
   ],
   "source": [
    "tree_random_search = RandomizedSearchCV(tree,tree_param_grid, n_iter=10)\n",
    "tree_random_search.fit(X_train,y_train)\n",
    "print(\"Decision Tree Random Search Best Parameters\",tree_random_search.best_params_)\n",
    "print(\"Decision Tree Random Search Best Parameters\",tree_random_search.best_score_)"
   ]
  },
  {
   "cell_type": "markdown",
   "id": "a4a82036",
   "metadata": {},
   "source": [
    "SVM"
   ]
  },
  {
   "cell_type": "code",
   "execution_count": 53,
   "id": "0eeb92a8",
   "metadata": {},
   "outputs": [],
   "source": [
    "svm = SVC()\n",
    "svm_param_grid ={\"C\":[0.1,1,10,100],\"gamma\":[0.1,0.01,0.001,0.0001]}"
   ]
  },
  {
   "cell_type": "code",
   "execution_count": 54,
   "id": "ae4faa2f",
   "metadata": {},
   "outputs": [
    {
     "name": "stdout",
     "output_type": "stream",
     "text": [
      "SVM Grid Search Best Parameters {'C': 100, 'gamma': 0.01}\n",
      "SVM Grid Search Best Parameters 0.9583333333333334\n"
     ]
    }
   ],
   "source": [
    "svm_grid_search = GridSearchCV(svm,svm_param_grid)\n",
    "svm_grid_search.fit(X_train,y_train)\n",
    "print(\"SVM Grid Search Best Parameters\",svm_grid_search.best_params_)\n",
    "print(\"SVM Grid Search Best Parameters\",svm_grid_search.best_score_)"
   ]
  },
  {
   "cell_type": "code",
   "execution_count": 55,
   "id": "a6964512",
   "metadata": {},
   "outputs": [
    {
     "name": "stdout",
     "output_type": "stream",
     "text": [
      "SVM Random Search Best Parameters {'gamma': 0.01, 'C': 10}\n",
      "SVM Random Search Best Parameters 0.95\n"
     ]
    }
   ],
   "source": [
    "svm_random_search = RandomizedSearchCV(svm,svm_param_grid, n_iter=10)\n",
    "svm_random_search.fit(X_train,y_train)\n",
    "print(\"SVM Random Search Best Parameters\",svm_random_search.best_params_)\n",
    "print(\"SVM Random Search Best Parameters\",svm_random_search.best_score_)"
   ]
  }
 ],
 "metadata": {
  "kernelspec": {
   "display_name": "Python 3",
   "language": "python",
   "name": "python3"
  },
  "language_info": {
   "codemirror_mode": {
    "name": "ipython",
    "version": 3
   },
   "file_extension": ".py",
   "mimetype": "text/x-python",
   "name": "python",
   "nbconvert_exporter": "python",
   "pygments_lexer": "ipython3",
   "version": "3.12.2"
  }
 },
 "nbformat": 4,
 "nbformat_minor": 5
}
