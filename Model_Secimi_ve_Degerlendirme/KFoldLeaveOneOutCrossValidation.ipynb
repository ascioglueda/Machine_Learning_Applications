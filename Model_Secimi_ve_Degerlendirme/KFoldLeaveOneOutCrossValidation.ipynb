{
 "cells": [
  {
   "cell_type": "code",
   "execution_count": 8,
   "id": "72ecedeb",
   "metadata": {},
   "outputs": [],
   "source": [
    "from sklearn.datasets import load_iris\n",
    "import numpy as np\n",
    "from sklearn.model_selection import train_test_split,KFold,LeaveOneOut,GridSearchCV\n",
    "from sklearn.tree import DecisionTreeClassifier"
   ]
  },
  {
   "cell_type": "code",
   "execution_count": 9,
   "id": "4a493c19",
   "metadata": {},
   "outputs": [],
   "source": [
    "iris =load_iris()\n",
    "X = iris.data\n",
    "y = iris.target"
   ]
  },
  {
   "cell_type": "code",
   "execution_count": 10,
   "id": "ba740f40",
   "metadata": {},
   "outputs": [],
   "source": [
    "X_train, X_test, y_train, y_test =train_test_split(X,y,test_size=0.2, random_state=42)"
   ]
  },
  {
   "cell_type": "code",
   "execution_count": 11,
   "id": "43f7afba",
   "metadata": {},
   "outputs": [],
   "source": [
    "tree = DecisionTreeClassifier()\n",
    "tree_param_dist ={\"max_depth\":[3, 5, 7]}"
   ]
  },
  {
   "cell_type": "markdown",
   "id": "0dbf407c",
   "metadata": {},
   "source": [
    "KFOLD Grid Search"
   ]
  },
  {
   "cell_type": "code",
   "execution_count": 12,
   "id": "f61b409f",
   "metadata": {},
   "outputs": [
    {
     "name": "stdout",
     "output_type": "stream",
     "text": [
      "KF En iyi paramter: {'max_depth': 5}\n",
      "KF En iyi aac: 0.9416666666666667\n"
     ]
    }
   ],
   "source": [
    "kf = KFold(n_splits=10)\n",
    "tree_grid_search_kf = GridSearchCV(tree, tree_param_dist, cv=kf)\n",
    "tree_grid_search_kf.fit(X_train,y_train)\n",
    "print(\"KF En iyi paramter:\",tree_grid_search_kf.best_params_)\n",
    "print(\"KF En iyi aac:\",tree_grid_search_kf.best_score_)"
   ]
  },
  {
   "cell_type": "markdown",
   "id": "75d20d43",
   "metadata": {},
   "source": [
    "LOO"
   ]
  },
  {
   "cell_type": "code",
   "execution_count": 13,
   "id": "57e03f3e",
   "metadata": {},
   "outputs": [
    {
     "name": "stdout",
     "output_type": "stream",
     "text": [
      "LOO En iyi paramter: {'max_depth': 3}\n",
      "LOO En iyi aac: 0.9333333333333333\n"
     ]
    }
   ],
   "source": [
    "loo = LeaveOneOut()\n",
    "tree_grid_search_loo = GridSearchCV(tree, tree_param_dist, cv=loo)\n",
    "tree_grid_search_loo.fit(X_train,y_train)\n",
    "print(\"LOO En iyi paramter:\",tree_grid_search_loo.best_params_)\n",
    "print(\"LOO En iyi aac:\",tree_grid_search_loo.best_score_)"
   ]
  }
 ],
 "metadata": {
  "kernelspec": {
   "display_name": "Python 3",
   "language": "python",
   "name": "python3"
  },
  "language_info": {
   "codemirror_mode": {
    "name": "ipython",
    "version": 3
   },
   "file_extension": ".py",
   "mimetype": "text/x-python",
   "name": "python",
   "nbconvert_exporter": "python",
   "pygments_lexer": "ipython3",
   "version": "3.12.2"
  }
 },
 "nbformat": 4,
 "nbformat_minor": 5
}
