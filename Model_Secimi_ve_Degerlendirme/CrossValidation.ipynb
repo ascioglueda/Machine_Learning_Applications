{
 "cells": [
  {
   "cell_type": "code",
   "execution_count": 9,
   "id": "95a45cad",
   "metadata": {},
   "outputs": [],
   "source": [
    "from sklearn.datasets import load_iris\n",
    "import numpy as np\n",
    "from sklearn.model_selection import train_test_split,GridSearchCV\n",
    "from sklearn.tree import DecisionTreeClassifier\n"
   ]
  },
  {
   "cell_type": "code",
   "execution_count": 10,
   "id": "3318334f",
   "metadata": {},
   "outputs": [],
   "source": [
    "iris =load_iris()\n",
    "X = iris.data\n",
    "y = iris.target"
   ]
  },
  {
   "cell_type": "code",
   "execution_count": 11,
   "id": "bc606f1e",
   "metadata": {},
   "outputs": [],
   "source": [
    "X_train, X_test, y_train, y_test =train_test_split(X,y,test_size=0.2, random_state=42)\n"
   ]
  },
  {
   "cell_type": "code",
   "execution_count": 12,
   "id": "b6d5ff25",
   "metadata": {},
   "outputs": [],
   "source": [
    "tree = DecisionTreeClassifier()\n",
    "tree_param_grid ={\"max_depth\":[3, 5, 7], \"max_leaf_nodes\":[None,5,10,20,30,50]}"
   ]
  },
  {
   "cell_type": "code",
   "execution_count": 13,
   "id": "91d9c6f1",
   "metadata": {},
   "outputs": [
    {
     "name": "stdout",
     "output_type": "stream",
     "text": [
      "Decision Tree Grid Search Best Parameters {'max_depth': 3, 'max_leaf_nodes': 5}\n",
      "Decision Tree Grid Search Best Parameters 0.9499999999999998\n"
     ]
    }
   ],
   "source": [
    "nb_cv = 3\n",
    "tree_grid_search = GridSearchCV(tree,tree_param_grid, cv = nb_cv)\n",
    "tree_grid_search.fit(X_train,y_train)\n",
    "print(\"Decision Tree Grid Search Best Parameters\",tree_grid_search.best_params_)\n",
    "print(\"Decision Tree Grid Search Best Parameters\",tree_grid_search.best_score_)"
   ]
  },
  {
   "cell_type": "code",
   "execution_count": 14,
   "id": "927fcf66",
   "metadata": {},
   "outputs": [
    {
     "name": "stdout",
     "output_type": "stream",
     "text": [
      "Ortalama test skoru0.9333333333333332,Parametreler:{'max_depth': 3, 'max_leaf_nodes': None}\n",
      "Ortalama test skoru0.9499999999999998,Parametreler:{'max_depth': 3, 'max_leaf_nodes': 5}\n",
      "Ortalama test skoru0.9333333333333332,Parametreler:{'max_depth': 3, 'max_leaf_nodes': 10}\n",
      "Ortalama test skoru0.9333333333333332,Parametreler:{'max_depth': 3, 'max_leaf_nodes': 20}\n",
      "Ortalama test skoru0.9499999999999998,Parametreler:{'max_depth': 3, 'max_leaf_nodes': 30}\n",
      "Ortalama test skoru0.9499999999999998,Parametreler:{'max_depth': 3, 'max_leaf_nodes': 50}\n",
      "Ortalama test skoru0.9333333333333332,Parametreler:{'max_depth': 5, 'max_leaf_nodes': None}\n",
      "Ortalama test skoru0.9250000000000002,Parametreler:{'max_depth': 5, 'max_leaf_nodes': 5}\n",
      "Ortalama test skoru0.9333333333333332,Parametreler:{'max_depth': 5, 'max_leaf_nodes': 10}\n",
      "Ortalama test skoru0.9416666666666668,Parametreler:{'max_depth': 5, 'max_leaf_nodes': 20}\n",
      "Ortalama test skoru0.9416666666666668,Parametreler:{'max_depth': 5, 'max_leaf_nodes': 30}\n",
      "Ortalama test skoru0.9416666666666668,Parametreler:{'max_depth': 5, 'max_leaf_nodes': 50}\n",
      "Ortalama test skoru0.9333333333333332,Parametreler:{'max_depth': 7, 'max_leaf_nodes': None}\n",
      "Ortalama test skoru0.9250000000000002,Parametreler:{'max_depth': 7, 'max_leaf_nodes': 5}\n",
      "Ortalama test skoru0.9250000000000002,Parametreler:{'max_depth': 7, 'max_leaf_nodes': 10}\n",
      "Ortalama test skoru0.9333333333333332,Parametreler:{'max_depth': 7, 'max_leaf_nodes': 20}\n",
      "Ortalama test skoru0.9416666666666668,Parametreler:{'max_depth': 7, 'max_leaf_nodes': 30}\n",
      "Ortalama test skoru0.9416666666666668,Parametreler:{'max_depth': 7, 'max_leaf_nodes': 50}\n"
     ]
    }
   ],
   "source": [
    "for mean_score,params in zip(tree_grid_search.cv_results_[\"mean_test_score\"],tree_grid_search.cv_results_[\"params\"]):\n",
    "    print(f\"Ortalama test skoru{mean_score},Parametreler:{params}\")"
   ]
  },
  {
   "cell_type": "code",
   "execution_count": 15,
   "id": "04bd6d91",
   "metadata": {},
   "outputs": [
    {
     "name": "stdout",
     "output_type": "stream",
     "text": [
      "Parametreler:{'max_depth': 3, 'max_leaf_nodes': None}\n",
      "\tFold  1 - Accuracy: 0.95\n",
      "\tFold  2 - Accuracy: 0.9\n",
      "\tFold  3 - Accuracy: 0.95\n",
      "Parametreler:{'max_depth': 3, 'max_leaf_nodes': 5}\n",
      "\tFold  1 - Accuracy: 1.0\n",
      "\tFold  2 - Accuracy: 0.9\n",
      "\tFold  3 - Accuracy: 0.95\n",
      "Parametreler:{'max_depth': 3, 'max_leaf_nodes': 10}\n",
      "\tFold  1 - Accuracy: 0.95\n",
      "\tFold  2 - Accuracy: 0.9\n",
      "\tFold  3 - Accuracy: 0.95\n",
      "Parametreler:{'max_depth': 3, 'max_leaf_nodes': 20}\n",
      "\tFold  1 - Accuracy: 0.95\n",
      "\tFold  2 - Accuracy: 0.9\n",
      "\tFold  3 - Accuracy: 0.95\n",
      "Parametreler:{'max_depth': 3, 'max_leaf_nodes': 30}\n",
      "\tFold  1 - Accuracy: 1.0\n",
      "\tFold  2 - Accuracy: 0.9\n",
      "\tFold  3 - Accuracy: 0.95\n",
      "Parametreler:{'max_depth': 3, 'max_leaf_nodes': 50}\n",
      "\tFold  1 - Accuracy: 1.0\n",
      "\tFold  2 - Accuracy: 0.9\n",
      "\tFold  3 - Accuracy: 0.95\n",
      "Parametreler:{'max_depth': 5, 'max_leaf_nodes': None}\n",
      "\tFold  1 - Accuracy: 0.95\n",
      "\tFold  2 - Accuracy: 0.9\n",
      "\tFold  3 - Accuracy: 0.95\n",
      "Parametreler:{'max_depth': 5, 'max_leaf_nodes': 5}\n",
      "\tFold  1 - Accuracy: 0.95\n",
      "\tFold  2 - Accuracy: 0.9\n",
      "\tFold  3 - Accuracy: 0.925\n",
      "Parametreler:{'max_depth': 5, 'max_leaf_nodes': 10}\n",
      "\tFold  1 - Accuracy: 0.95\n",
      "\tFold  2 - Accuracy: 0.9\n",
      "\tFold  3 - Accuracy: 0.95\n",
      "Parametreler:{'max_depth': 5, 'max_leaf_nodes': 20}\n",
      "\tFold  1 - Accuracy: 0.975\n",
      "\tFold  2 - Accuracy: 0.9\n",
      "\tFold  3 - Accuracy: 0.95\n",
      "Parametreler:{'max_depth': 5, 'max_leaf_nodes': 30}\n",
      "\tFold  1 - Accuracy: 0.975\n",
      "\tFold  2 - Accuracy: 0.9\n",
      "\tFold  3 - Accuracy: 0.95\n",
      "Parametreler:{'max_depth': 5, 'max_leaf_nodes': 50}\n",
      "\tFold  1 - Accuracy: 0.975\n",
      "\tFold  2 - Accuracy: 0.9\n",
      "\tFold  3 - Accuracy: 0.95\n",
      "Parametreler:{'max_depth': 7, 'max_leaf_nodes': None}\n",
      "\tFold  1 - Accuracy: 0.95\n",
      "\tFold  2 - Accuracy: 0.9\n",
      "\tFold  3 - Accuracy: 0.95\n",
      "Parametreler:{'max_depth': 7, 'max_leaf_nodes': 5}\n",
      "\tFold  1 - Accuracy: 0.95\n",
      "\tFold  2 - Accuracy: 0.9\n",
      "\tFold  3 - Accuracy: 0.925\n",
      "Parametreler:{'max_depth': 7, 'max_leaf_nodes': 10}\n",
      "\tFold  1 - Accuracy: 0.925\n",
      "\tFold  2 - Accuracy: 0.9\n",
      "\tFold  3 - Accuracy: 0.95\n",
      "Parametreler:{'max_depth': 7, 'max_leaf_nodes': 20}\n",
      "\tFold  1 - Accuracy: 0.95\n",
      "\tFold  2 - Accuracy: 0.9\n",
      "\tFold  3 - Accuracy: 0.95\n",
      "Parametreler:{'max_depth': 7, 'max_leaf_nodes': 30}\n",
      "\tFold  1 - Accuracy: 0.975\n",
      "\tFold  2 - Accuracy: 0.9\n",
      "\tFold  3 - Accuracy: 0.95\n",
      "Parametreler:{'max_depth': 7, 'max_leaf_nodes': 50}\n",
      "\tFold  1 - Accuracy: 0.975\n",
      "\tFold  2 - Accuracy: 0.9\n",
      "\tFold  3 - Accuracy: 0.95\n"
     ]
    }
   ],
   "source": [
    "cv_result = tree_grid_search.cv_results_\n",
    "for i,params in enumerate((cv_result[\"params\"])):\n",
    "    print(f\"Parametreler:{params}\")\n",
    "    for j in range(nb_cv):\n",
    "        accuracy = cv_result[f\"split{j}_test_score\"][i]\n",
    "        print(f\"\\tFold  {j+1} - Accuracy: {accuracy}\")"
   ]
  }
 ],
 "metadata": {
  "kernelspec": {
   "display_name": "Python 3",
   "language": "python",
   "name": "python3"
  },
  "language_info": {
   "codemirror_mode": {
    "name": "ipython",
    "version": 3
   },
   "file_extension": ".py",
   "mimetype": "text/x-python",
   "name": "python",
   "nbconvert_exporter": "python",
   "pygments_lexer": "ipython3",
   "version": "3.12.2"
  }
 },
 "nbformat": 4,
 "nbformat_minor": 5
}
