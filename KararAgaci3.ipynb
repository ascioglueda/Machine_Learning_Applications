{
 "cells": [
  {
   "cell_type": "code",
   "execution_count": 1,
   "metadata": {},
   "outputs": [],
   "source": [
    "from sklearn.datasets import load_diabetes\n",
    "from sklearn.model_selection import train_test_split\n",
    "from sklearn.tree import DecisionTreeRegressor\n",
    "from sklearn.metrics import mean_squared_error\n",
    "import numpy as np"
   ]
  },
  {
   "cell_type": "code",
   "execution_count": 2,
   "metadata": {},
   "outputs": [
    {
     "name": "stdout",
     "output_type": "stream",
     "text": [
      "Özellik İsimleri: ['age', 'sex', 'bmi', 'bp', 's1', 's2', 's3', 's4', 's5', 's6']\n",
      "Veri Seti Boyutu: (442, 10)\n",
      "Hedef Değişken Boyutu: (442,)\n"
     ]
    }
   ],
   "source": [
    "diabetes = load_diabetes()\n",
    "# Özellik isimlerini ve hedef değişkenini görmek için:\n",
    "print(\"Özellik İsimleri:\", diabetes.feature_names)\n",
    "print(\"Veri Seti Boyutu:\", diabetes.data.shape)\n",
    "print(\"Hedef Değişken Boyutu:\", diabetes.target.shape)"
   ]
  },
  {
   "cell_type": "markdown",
   "metadata": {},
   "source": [
    "Veri setini ayarla"
   ]
  },
  {
   "cell_type": "code",
   "execution_count": 3,
   "metadata": {},
   "outputs": [],
   "source": [
    "X = diabetes.data #features\n",
    "y = diabetes.target #target\n",
    "X_train, X_test,y_train, y_test = train_test_split(X, y, test_size=0.2,random_state=42)"
   ]
  },
  {
   "cell_type": "markdown",
   "metadata": {},
   "source": [
    "karar agaci regresyon modeli"
   ]
  },
  {
   "cell_type": "code",
   "execution_count": 4,
   "metadata": {},
   "outputs": [
    {
     "name": "stdout",
     "output_type": "stream",
     "text": [
      "y_pred degeri: [206.  99. 170. 268. 183.  97. 233. 258. 206. 197. 113. 200.  74. 220.\n",
      "  86. 141. 310. 279. 293. 178. 147.  65.  47. 150.  85. 127. 281. 150.\n",
      "  59. 183. 128.  50. 276. 292. 164. 180.  53.  83. 120.  96.  39.  66.\n",
      " 199. 131. 170.  65.  59. 148.  39. 200. 141.  75. 201. 148. 292. 142.\n",
      "  57. 198.  59.  57.  67. 147. 141.  85. 151. 236.  58. 134. 185. 200.\n",
      " 179. 273. 241.  97.  75. 292. 150. 178. 122. 229.  49.  25.  59.  39.\n",
      "  49.  52.  74.  74. 147.]\n",
      "y_test degeri: [219.  70. 202. 230. 111.  84. 242. 272.  94.  96.  94. 252.  99. 297.\n",
      " 135.  67. 295. 264. 170. 275. 310.  64. 128. 232. 129. 118. 263.  77.\n",
      "  48. 107. 140. 113.  90. 164. 180. 233.  42.  84. 172.  63.  48. 108.\n",
      " 156. 168.  90.  52. 200.  87.  90. 258. 136. 158.  69.  72. 171.  95.\n",
      "  72. 151. 168.  60. 122.  52. 187. 102. 214. 248. 181. 110. 140. 202.\n",
      " 101. 222. 281.  61.  89.  91. 186. 220. 237. 233.  68. 190.  96.  72.\n",
      " 153.  98.  37.  63. 184.]\n"
     ]
    }
   ],
   "source": [
    "tree_reg = DecisionTreeRegressor(random_state = 42)\n",
    "tree_reg.fit(X_train,y_train)\n",
    "y_pred = tree_reg.predict(X_test)\n",
    "print(\"y_pred degeri:\",y_pred)\n",
    "print(\"y_test degeri:\",y_test)"
   ]
  },
  {
   "cell_type": "markdown",
   "metadata": {},
   "source": [
    "Ortalama kare hatası hesaplama(ortalaması kare hatası yorumlama için zor)"
   ]
  },
  {
   "cell_type": "code",
   "execution_count": 5,
   "metadata": {},
   "outputs": [
    {
     "name": "stdout",
     "output_type": "stream",
     "text": [
      "mse: 4976.797752808989\n"
     ]
    }
   ],
   "source": [
    "mse = mean_squared_error(y_test, y_pred)\n",
    "print(\"mse:\",mse)"
   ]
  },
  {
   "cell_type": "markdown",
   "metadata": {},
   "source": [
    "Root mean squared error "
   ]
  },
  {
   "cell_type": "code",
   "execution_count": 6,
   "metadata": {},
   "outputs": [
    {
     "name": "stdout",
     "output_type": "stream",
     "text": [
      "rmse: 70.54642267903446\n"
     ]
    }
   ],
   "source": [
    "rmse = np.sqrt(mse)\n",
    "print(\"rmse:\",rmse)"
   ]
  }
 ],
 "metadata": {
  "kernelspec": {
   "display_name": "Python 3",
   "language": "python",
   "name": "python3"
  },
  "language_info": {
   "codemirror_mode": {
    "name": "ipython",
    "version": 3
   },
   "file_extension": ".py",
   "mimetype": "text/x-python",
   "name": "python",
   "nbconvert_exporter": "python",
   "pygments_lexer": "ipython3",
   "version": "3.12.2"
  }
 },
 "nbformat": 4,
 "nbformat_minor": 2
}
